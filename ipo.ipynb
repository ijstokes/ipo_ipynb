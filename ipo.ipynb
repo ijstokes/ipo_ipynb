{
 "metadata": {
  "name": "ipo"
 },
 "nbformat": 3,
 "nbformat_minor": 0,
 "worksheets": [
  {
   "cells": [
    {
     "cell_type": "code",
     "collapsed": false,
     "input": [
      "from pandas.io.data import DataReader\n",
      "from datetime import datetime\n",
      "import pandas\n",
      "from bokeh.mpl import PlotClient\n",
      "p = PlotClient(username='defaultuser', serverloc=\"http://localhost:5006\",userapikey=\"nokey\")\n",
      "p.use_doc('cars')\n",
      "p.notebooksources()"
     ],
     "language": "python",
     "metadata": {},
     "outputs": [
      {
       "output_type": "stream",
       "stream": "stdout",
       "text": [
        "got read write apikey\n"
       ]
      }
     ],
     "prompt_number": 3
    },
    {
     "cell_type": "code",
     "collapsed": false,
     "input": [
      "df = pandas.read_csv(\"/Users/paddy/code/ipo_ipynb/ipo_full.csv\")"
     ],
     "language": "python",
     "metadata": {},
     "outputs": [],
     "prompt_number": 4
    },
    {
     "cell_type": "code",
     "collapsed": false,
     "input": [
      "\n",
      "def price_rows(symbol):\n",
      "    try:\n",
      "        sb = symbol.strip()\n",
      "        stock = DataReader(sb,  \"yahoo\")\n",
      "        stock['Change'] = (stock.Close - stock.Close[0]) / stock.Close[0]\n",
      "        changes = stock.Change[[1,20,60,120,180]]\n",
      "        #return changes\n",
      "        return stock.Change[1]\n",
      "    except Exception, e:\n",
      "        print \"error with %s\" % symbol\n",
      "        print e\n",
      "        #return [1,20,60,120,180]\n",
      "        return 0\n",
      "def clean_dollar(x):\n",
      "    x2 = x.strip()\n",
      "    #remove commas\n",
      "    x3 = \"\".join(x2.split(\",\"))\n",
      "    #remove first character\n",
      "    x4 = x3[1:]\n",
      "    x5 = float(x4)\n",
      "    return x5\n",
      "\n",
      "def clean_comma(x):\n",
      "    x2 = x.strip()\n",
      "    #remove commas\n",
      "    x3 = \"\".join(x2.split(\",\"))\n",
      "    x4 = float(x3)\n",
      "    return x4\n",
      "\n",
      "def strip_(x):\n",
      "    return x.strip()\n",
      "\n",
      "def identity(x):\n",
      "    return x\n",
      "def transform_column(df, col_name, col_name_transform, col_val_transform):\n",
      "    temp_colname = col_name+\"_\"\n",
      "    df[temp_colname] = df[col_name].map(col_val_transform)\n",
      "    df[col_name_transform(col_name)] = df[temp_colname]\n",
      "    del df[col_name]\n",
      "    del df[temp_colname]"
     ],
     "language": "python",
     "metadata": {},
     "outputs": [],
     "prompt_number": 5
    },
    {
     "cell_type": "code",
     "collapsed": false,
     "input": [
      "df[\"Shares2\"] = df[\"Shares\"].map(clean_comma)\n",
      "df[\"Shares\"] = df[\"Shares2\"]\n",
      "del df[\"Shares2\"]\n",
      "df[\"Price2\"] = df[\"Price\"].map(clean_dollar)\n",
      "df[\"Price\"] = df[\"Price2\"]\n",
      "del df[\"Price2\"]\n",
      "del df[\"uneeded\"]\n",
      "#del df[\"website\"]\n",
      "df[:3]\n"
     ],
     "language": "python",
     "metadata": {},
     "outputs": [
      {
       "ename": "KeyError",
       "evalue": "u'no item named website'",
       "output_type": "pyerr",
       "traceback": [
        "\u001b[0;31m---------------------------------------------------------------------------\u001b[0m\n\u001b[0;31mKeyError\u001b[0m                                  Traceback (most recent call last)",
        "\u001b[0;32m<ipython-input-6-4661049906a9>\u001b[0m in \u001b[0;36m<module>\u001b[0;34m()\u001b[0m\n\u001b[1;32m      6\u001b[0m \u001b[0;32mdel\u001b[0m \u001b[0mdf\u001b[0m\u001b[0;34m[\u001b[0m\u001b[0;34m\"Price2\"\u001b[0m\u001b[0;34m]\u001b[0m\u001b[0;34m\u001b[0m\u001b[0m\n\u001b[1;32m      7\u001b[0m \u001b[0;32mdel\u001b[0m \u001b[0mdf\u001b[0m\u001b[0;34m[\u001b[0m\u001b[0;34m\"uneeded\"\u001b[0m\u001b[0;34m]\u001b[0m\u001b[0;34m\u001b[0m\u001b[0m\n\u001b[0;32m----> 8\u001b[0;31m \u001b[0;32mdel\u001b[0m \u001b[0mdf\u001b[0m\u001b[0;34m[\u001b[0m\u001b[0;34m\"website\"\u001b[0m\u001b[0;34m]\u001b[0m\u001b[0;34m\u001b[0m\u001b[0m\n\u001b[0m\u001b[1;32m      9\u001b[0m \u001b[0mdf\u001b[0m\u001b[0;34m[\u001b[0m\u001b[0;34m:\u001b[0m\u001b[0;36m3\u001b[0m\u001b[0;34m]\u001b[0m\u001b[0;34m\u001b[0m\u001b[0m\n",
        "\u001b[0;32m/Users/paddy/anaconda/lib/python2.7/site-packages/pandas/core/generic.pyc\u001b[0m in \u001b[0;36m__delitem__\u001b[0;34m(self, key)\u001b[0m\n\u001b[1;32m    573\u001b[0m             \u001b[0;31m# there was no match, this call should raise the appropriate\u001b[0m\u001b[0;34m\u001b[0m\u001b[0;34m\u001b[0m\u001b[0m\n\u001b[1;32m    574\u001b[0m             \u001b[0;31m# exception:\u001b[0m\u001b[0;34m\u001b[0m\u001b[0;34m\u001b[0m\u001b[0m\n\u001b[0;32m--> 575\u001b[0;31m             \u001b[0mself\u001b[0m\u001b[0;34m.\u001b[0m\u001b[0m_data\u001b[0m\u001b[0;34m.\u001b[0m\u001b[0mdelete\u001b[0m\u001b[0;34m(\u001b[0m\u001b[0mkey\u001b[0m\u001b[0;34m)\u001b[0m\u001b[0;34m\u001b[0m\u001b[0m\n\u001b[0m\u001b[1;32m    576\u001b[0m \u001b[0;34m\u001b[0m\u001b[0m\n\u001b[1;32m    577\u001b[0m         \u001b[0;32mtry\u001b[0m\u001b[0;34m:\u001b[0m\u001b[0;34m\u001b[0m\u001b[0m\n",
        "\u001b[0;32m/Users/paddy/anaconda/lib/python2.7/site-packages/pandas/core/internals.pyc\u001b[0m in \u001b[0;36mdelete\u001b[0;34m(self, item)\u001b[0m\n\u001b[1;32m    924\u001b[0m \u001b[0;34m\u001b[0m\u001b[0m\n\u001b[1;32m    925\u001b[0m     \u001b[0;32mdef\u001b[0m \u001b[0mdelete\u001b[0m\u001b[0;34m(\u001b[0m\u001b[0mself\u001b[0m\u001b[0;34m,\u001b[0m \u001b[0mitem\u001b[0m\u001b[0;34m)\u001b[0m\u001b[0;34m:\u001b[0m\u001b[0;34m\u001b[0m\u001b[0m\n\u001b[0;32m--> 926\u001b[0;31m         \u001b[0mi\u001b[0m\u001b[0;34m,\u001b[0m \u001b[0m_\u001b[0m \u001b[0;34m=\u001b[0m \u001b[0mself\u001b[0m\u001b[0;34m.\u001b[0m\u001b[0m_find_block\u001b[0m\u001b[0;34m(\u001b[0m\u001b[0mitem\u001b[0m\u001b[0;34m)\u001b[0m\u001b[0;34m\u001b[0m\u001b[0m\n\u001b[0m\u001b[1;32m    927\u001b[0m         \u001b[0mloc\u001b[0m \u001b[0;34m=\u001b[0m \u001b[0mself\u001b[0m\u001b[0;34m.\u001b[0m\u001b[0mitems\u001b[0m\u001b[0;34m.\u001b[0m\u001b[0mget_loc\u001b[0m\u001b[0;34m(\u001b[0m\u001b[0mitem\u001b[0m\u001b[0;34m)\u001b[0m\u001b[0;34m\u001b[0m\u001b[0m\n\u001b[1;32m    928\u001b[0m \u001b[0;34m\u001b[0m\u001b[0m\n",
        "\u001b[0;32m/Users/paddy/anaconda/lib/python2.7/site-packages/pandas/core/internals.pyc\u001b[0m in \u001b[0;36m_find_block\u001b[0;34m(self, item)\u001b[0m\n\u001b[1;32m   1014\u001b[0m \u001b[0;34m\u001b[0m\u001b[0m\n\u001b[1;32m   1015\u001b[0m     \u001b[0;32mdef\u001b[0m \u001b[0m_find_block\u001b[0m\u001b[0;34m(\u001b[0m\u001b[0mself\u001b[0m\u001b[0;34m,\u001b[0m \u001b[0mitem\u001b[0m\u001b[0;34m)\u001b[0m\u001b[0;34m:\u001b[0m\u001b[0;34m\u001b[0m\u001b[0m\n\u001b[0;32m-> 1016\u001b[0;31m         \u001b[0mself\u001b[0m\u001b[0;34m.\u001b[0m\u001b[0m_check_have\u001b[0m\u001b[0;34m(\u001b[0m\u001b[0mitem\u001b[0m\u001b[0;34m)\u001b[0m\u001b[0;34m\u001b[0m\u001b[0m\n\u001b[0m\u001b[1;32m   1017\u001b[0m         \u001b[0;32mfor\u001b[0m \u001b[0mi\u001b[0m\u001b[0;34m,\u001b[0m \u001b[0mblock\u001b[0m \u001b[0;32min\u001b[0m \u001b[0menumerate\u001b[0m\u001b[0;34m(\u001b[0m\u001b[0mself\u001b[0m\u001b[0;34m.\u001b[0m\u001b[0mblocks\u001b[0m\u001b[0;34m)\u001b[0m\u001b[0;34m:\u001b[0m\u001b[0;34m\u001b[0m\u001b[0m\n\u001b[1;32m   1018\u001b[0m             \u001b[0;32mif\u001b[0m \u001b[0mitem\u001b[0m \u001b[0;32min\u001b[0m \u001b[0mblock\u001b[0m\u001b[0;34m:\u001b[0m\u001b[0;34m\u001b[0m\u001b[0m\n",
        "\u001b[0;32m/Users/paddy/anaconda/lib/python2.7/site-packages/pandas/core/internals.pyc\u001b[0m in \u001b[0;36m_check_have\u001b[0;34m(self, item)\u001b[0m\n\u001b[1;32m   1021\u001b[0m     \u001b[0;32mdef\u001b[0m \u001b[0m_check_have\u001b[0m\u001b[0;34m(\u001b[0m\u001b[0mself\u001b[0m\u001b[0;34m,\u001b[0m \u001b[0mitem\u001b[0m\u001b[0;34m)\u001b[0m\u001b[0;34m:\u001b[0m\u001b[0;34m\u001b[0m\u001b[0m\n\u001b[1;32m   1022\u001b[0m         \u001b[0;32mif\u001b[0m \u001b[0mitem\u001b[0m \u001b[0;32mnot\u001b[0m \u001b[0;32min\u001b[0m \u001b[0mself\u001b[0m\u001b[0;34m.\u001b[0m\u001b[0mitems\u001b[0m\u001b[0;34m:\u001b[0m\u001b[0;34m\u001b[0m\u001b[0m\n\u001b[0;32m-> 1023\u001b[0;31m             \u001b[0;32mraise\u001b[0m \u001b[0mKeyError\u001b[0m\u001b[0;34m(\u001b[0m\u001b[0;34m'no item named %s'\u001b[0m \u001b[0;34m%\u001b[0m \u001b[0mcom\u001b[0m\u001b[0;34m.\u001b[0m\u001b[0mpprint_thing\u001b[0m\u001b[0;34m(\u001b[0m\u001b[0mitem\u001b[0m\u001b[0;34m)\u001b[0m\u001b[0;34m)\u001b[0m\u001b[0;34m\u001b[0m\u001b[0m\n\u001b[0m\u001b[1;32m   1024\u001b[0m \u001b[0;34m\u001b[0m\u001b[0m\n\u001b[1;32m   1025\u001b[0m     \u001b[0;32mdef\u001b[0m \u001b[0mreindex_axis\u001b[0m\u001b[0;34m(\u001b[0m\u001b[0mself\u001b[0m\u001b[0;34m,\u001b[0m \u001b[0mnew_axis\u001b[0m\u001b[0;34m,\u001b[0m \u001b[0mmethod\u001b[0m\u001b[0;34m=\u001b[0m\u001b[0mNone\u001b[0m\u001b[0;34m,\u001b[0m \u001b[0maxis\u001b[0m\u001b[0;34m=\u001b[0m\u001b[0;36m0\u001b[0m\u001b[0;34m,\u001b[0m \u001b[0mcopy\u001b[0m\u001b[0;34m=\u001b[0m\u001b[0mTrue\u001b[0m\u001b[0;34m)\u001b[0m\u001b[0;34m:\u001b[0m\u001b[0;34m\u001b[0m\u001b[0m\n",
        "\u001b[0;31mKeyError\u001b[0m: u'no item named website'"
       ]
      }
     ],
     "prompt_number": 6
    },
    {
     "cell_type": "code",
     "collapsed": false,
     "input": [
      "df[\"Market_Cap\"] = df.Price * df.Shares\n",
      "df[\"Market_CapMM\"] = df.Market_Cap / 1000000\n",
      "df[:3]"
     ],
     "language": "python",
     "metadata": {},
     "outputs": [
      {
       "html": [
        "<div style=\"max-height:1000px;max-width:1500px;overflow:auto;\">\n",
        "<table border=\"1\" class=\"dataframe\">\n",
        "  <thead>\n",
        "    <tr style=\"text-align: right;\">\n",
        "      <th></th>\n",
        "      <th>Company Name</th>\n",
        "      <th>Symbol</th>\n",
        "      <th>Market</th>\n",
        "      <th>Price</th>\n",
        "      <th>Shares</th>\n",
        "      <th>Offer Amount</th>\n",
        "      <th>Date Priced</th>\n",
        "      <th>industry</th>\n",
        "      <th>industry2</th>\n",
        "      <th> website</th>\n",
        "      <th>Market_Cap</th>\n",
        "      <th>Market_CapMM</th>\n",
        "    </tr>\n",
        "  </thead>\n",
        "  <tbody>\n",
        "    <tr>\n",
        "      <th>0</th>\n",
        "      <td>                  FACEBOOK INC </td>\n",
        "      <td>   FB </td>\n",
        "      <td>   Nasdaq Global Market </td>\n",
        "      <td> 38</td>\n",
        "      <td> 421233615</td>\n",
        "      <td> $16,006,877,370 </td>\n",
        "      <td> 5/18/2012</td>\n",
        "      <td>     Tech</td>\n",
        "      <td>       Tech</td>\n",
        "      <td> http://www.nasdaq.com/markets/ipos/company/fac...</td>\n",
        "      <td> 16006877370</td>\n",
        "      <td> 16006.877370</td>\n",
        "    </tr>\n",
        "    <tr>\n",
        "      <th>1</th>\n",
        "      <td>             EDWARDS GROUP LTD </td>\n",
        "      <td> EVAC </td>\n",
        "      <td> Nasdaq National Market </td>\n",
        "      <td>  8</td>\n",
        "      <td>  12500000</td>\n",
        "      <td>    $100,000,000 </td>\n",
        "      <td> 5/11/2012</td>\n",
        "      <td>     Tech</td>\n",
        "      <td>       Tech</td>\n",
        "      <td> http://www.nasdaq.com/markets/ipos/company/edw...</td>\n",
        "      <td>   100000000</td>\n",
        "      <td>   100.000000</td>\n",
        "    </tr>\n",
        "    <tr>\n",
        "      <th>2</th>\n",
        "      <td> IGNITE RESTAURANT GROUP, INC. </td>\n",
        "      <td>  IRG </td>\n",
        "      <td> Nasdaq National Market </td>\n",
        "      <td> 14</td>\n",
        "      <td>   5769231</td>\n",
        "      <td>     $80,769,234 </td>\n",
        "      <td> 5/11/2012</td>\n",
        "      <td> services</td>\n",
        "      <td> restaurant</td>\n",
        "      <td> http://www.nasdaq.com/markets/ipos/company/ign...</td>\n",
        "      <td>    80769234</td>\n",
        "      <td>    80.769234</td>\n",
        "    </tr>\n",
        "  </tbody>\n",
        "</table>\n",
        "</div>"
       ],
       "output_type": "pyout",
       "prompt_number": 7,
       "text": [
        "                     Company Name Symbol                   Market  Price     Shares  \\\n",
        "0                   FACEBOOK INC     FB     Nasdaq Global Market      38  421233615   \n",
        "1              EDWARDS GROUP LTD   EVAC   Nasdaq National Market       8   12500000   \n",
        "2  IGNITE RESTAURANT GROUP, INC.    IRG   Nasdaq National Market      14    5769231   \n",
        "\n",
        "       Offer Amount Date Priced  industry   industry2  \\\n",
        "0  $16,006,877,370    5/18/2012      Tech        Tech   \n",
        "1     $100,000,000    5/11/2012      Tech        Tech   \n",
        "2      $80,769,234    5/11/2012  services  restaurant   \n",
        "\n",
        "                                             website   Market_Cap  Market_CapMM  \n",
        "0  http://www.nasdaq.com/markets/ipos/company/fac...  16006877370  16006.877370  \n",
        "1  http://www.nasdaq.com/markets/ipos/company/edw...    100000000    100.000000  \n",
        "2  http://www.nasdaq.com/markets/ipos/company/ign...     80769234     80.769234  "
       ]
      }
     ],
     "prompt_number": 7
    },
    {
     "cell_type": "code",
     "collapsed": false,
     "input": [
      "\n",
      "diffs = df.Symbol.map(price_rows)\n",
      "df['Per_Change'] = diffs * 100\n"
     ],
     "language": "python",
     "metadata": {},
     "outputs": [],
     "prompt_number": 13
    },
    {
     "cell_type": "code",
     "collapsed": false,
     "input": [
      "without_fb = df[1:]\n"
     ],
     "language": "python",
     "metadata": {},
     "outputs": [],
     "prompt_number": 14
    },
    {
     "cell_type": "code",
     "collapsed": false,
     "input": [
      "source = p.make_source(df)\n",
      "no_fb_source = p.make_source(without_fb)\n",
      "\n",
      "p.hold('off')\n",
      "plot1 = p.scatter('Market_CapMM', 'Per_Change', data_source=source)\n",
      "plot2 = p.scatter('Market_CapMM', 'Per_Change', data_source=no_fb_source)\n",
      "grid = p.grid([[plot1,plot2]])\n",
      "grid"
     ],
     "language": "python",
     "metadata": {},
     "outputs": [
      {
       "html": [
        "<div>\n",
        "  \n",
        "  \n",
        "  <script type=\"text/javascript\">\n",
        "    $(function(){      \n",
        "    \n",
        "    var all_models = [{\"attributes\": {\"doc\": \"54e9d054-42f6-4a44-bbd9-93b829da303f\", \"children\": [[{\"type\": \"Plot\", \"id\": \"230cf468-17a7-4c1f-b3e6-057fa19fcf3a\"}, {\"type\": \"Plot\", \"id\": \"c5beceaf-2405-4438-a8e0-1049e9d82e8a\"}]], \"id\": \"64a73aef-51e1-4001-94f4-111f6f0d199e\", \"parent\": {\"type\": \"PlotContext\", \"id\": \"c9021e21-5c87-44f6-acfa-4395b64da0c3\"}, \"created\": true}, \"type\": \"GridPlotContainer\", \"id\": \"64a73aef-51e1-4001-94f4-111f6f0d199e\"}, {\"attributes\": {\"parent\": {\"type\": \"GridPlotContainer\", \"id\": \"64a73aef-51e1-4001-94f4-111f6f0d199e\"}, \"created\": true, \"doc\": \"54e9d054-42f6-4a44-bbd9-93b829da303f\", \"axes\": [{\"type\": \"LinearAxis\", \"id\": \"2074b4d4-e31c-4b34-88c6-78deda50a7b2\"}, {\"type\": \"LinearAxis\", \"id\": \"40e2b93e-56ec-4dd4-b065-d070d5eb27ce\"}], \"renderers\": [{\"type\": \"ScatterRenderer\", \"id\": \"c0929240-83bf-43f5-b6ed-6d1c1a35e741\"}], \"height\": 300, \"width\": 300, \"overlays\": [{\"type\": \"BoxSelectionOverlay\", \"id\": \"81018735-c5f9-4e04-9159-4bf65dbf3c6d\"}], \"tools\": [{\"type\": \"PanTool\", \"id\": \"13c7688f-49fd-4570-a4f4-fb71e681f239\"}, {\"type\": \"ZoomTool\", \"id\": \"b599c35b-5ebe-4163-a59f-1e63449b9e65\"}, {\"type\": \"SelectionTool\", \"id\": \"6c73a92f-9b18-49e4-b82a-c741224f2b09\"}], \"id\": \"230cf468-17a7-4c1f-b3e6-057fa19fcf3a\"}, \"type\": \"Plot\", \"id\": \"230cf468-17a7-4c1f-b3e6-057fa19fcf3a\"}, {\"attributes\": {\"sources\": [{\"ref\": {\"type\": \"PandasPlotSource\", \"id\": \"c7a30fa5-013d-457c-831e-f8845f1e73e4\"}, \"columns\": [\"Market_CapMM\"]}], \"doc\": \"54e9d054-42f6-4a44-bbd9-93b829da303f\", \"id\": \"a6f2d10e-09ab-40b3-97b6-728984fcb96f\", \"created\": true}, \"type\": \"DataRange1d\", \"id\": \"a6f2d10e-09ab-40b3-97b6-728984fcb96f\"}, {\"attributes\": {\"sources\": [{\"ref\": {\"type\": \"PandasPlotSource\", \"id\": \"c7a30fa5-013d-457c-831e-f8845f1e73e4\"}, \"columns\": [\"Per_Change\"]}], \"doc\": \"54e9d054-42f6-4a44-bbd9-93b829da303f\", \"id\": \"1daee8ff-f2a7-4e52-bdee-b3bde6c7b1c7\", \"created\": true}, \"type\": \"DataRange1d\", \"id\": \"1daee8ff-f2a7-4e52-bdee-b3bde6c7b1c7\"}, {\"attributes\": {\"id\": \"13c7688f-49fd-4570-a4f4-fb71e681f239\", \"doc\": \"54e9d054-42f6-4a44-bbd9-93b829da303f\", \"dataranges\": [{\"type\": \"DataRange1d\", \"id\": \"a6f2d10e-09ab-40b3-97b6-728984fcb96f\"}, {\"type\": \"DataRange1d\", \"id\": \"1daee8ff-f2a7-4e52-bdee-b3bde6c7b1c7\"}], \"dimensions\": [\"width\", \"height\"], \"created\": true}, \"type\": \"PanTool\", \"id\": \"13c7688f-49fd-4570-a4f4-fb71e681f239\"}, {\"attributes\": {\"id\": \"b599c35b-5ebe-4163-a59f-1e63449b9e65\", \"doc\": \"54e9d054-42f6-4a44-bbd9-93b829da303f\", \"dataranges\": [{\"type\": \"DataRange1d\", \"id\": \"a6f2d10e-09ab-40b3-97b6-728984fcb96f\"}, {\"type\": \"DataRange1d\", \"id\": \"1daee8ff-f2a7-4e52-bdee-b3bde6c7b1c7\"}], \"dimensions\": [\"width\", \"height\"], \"created\": true}, \"type\": \"ZoomTool\", \"id\": \"b599c35b-5ebe-4163-a59f-1e63449b9e65\"}, {\"attributes\": {\"id\": \"6c73a92f-9b18-49e4-b82a-c741224f2b09\", \"doc\": \"54e9d054-42f6-4a44-bbd9-93b829da303f\", \"renderers\": [{\"type\": \"ScatterRenderer\", \"id\": \"c0929240-83bf-43f5-b6ed-6d1c1a35e741\"}], \"created\": true}, \"type\": \"SelectionTool\", \"id\": \"6c73a92f-9b18-49e4-b82a-c741224f2b09\"}, {\"attributes\": {\"doc\": \"54e9d054-42f6-4a44-bbd9-93b829da303f\", \"tool\": {\"type\": \"SelectionTool\", \"id\": \"6c73a92f-9b18-49e4-b82a-c741224f2b09\"}, \"id\": \"81018735-c5f9-4e04-9159-4bf65dbf3c6d\", \"created\": true}, \"type\": \"BoxSelectionOverlay\", \"id\": \"81018735-c5f9-4e04-9159-4bf65dbf3c6d\"}, {\"attributes\": {\"orientation\": \"bottom\", \"parent\": {\"type\": \"Plot\", \"id\": \"230cf468-17a7-4c1f-b3e6-057fa19fcf3a\"}, \"created\": true, \"doc\": \"54e9d054-42f6-4a44-bbd9-93b829da303f\", \"ticks\": 3, \"data_range\": {\"type\": \"DataRange1d\", \"id\": \"a6f2d10e-09ab-40b3-97b6-728984fcb96f\"}, \"id\": \"2074b4d4-e31c-4b34-88c6-78deda50a7b2\"}, \"type\": \"LinearAxis\", \"id\": \"2074b4d4-e31c-4b34-88c6-78deda50a7b2\"}, {\"attributes\": {\"orientation\": \"left\", \"parent\": {\"type\": \"Plot\", \"id\": \"230cf468-17a7-4c1f-b3e6-057fa19fcf3a\"}, \"created\": true, \"doc\": \"54e9d054-42f6-4a44-bbd9-93b829da303f\", \"ticks\": 3, \"data_range\": {\"type\": \"DataRange1d\", \"id\": \"1daee8ff-f2a7-4e52-bdee-b3bde6c7b1c7\"}, \"id\": \"40e2b93e-56ec-4dd4-b065-d070d5eb27ce\"}, \"type\": \"LinearAxis\", \"id\": \"40e2b93e-56ec-4dd4-b065-d070d5eb27ce\"}, {\"attributes\": {\"yfield\": \"Per_Change\", \"data_source\": {\"type\": \"PandasPlotSource\", \"id\": \"c7a30fa5-013d-457c-831e-f8845f1e73e4\"}, \"parent\": {\"type\": \"Plot\", \"id\": \"230cf468-17a7-4c1f-b3e6-057fa19fcf3a\"}, \"created\": true, \"doc\": \"54e9d054-42f6-4a44-bbd9-93b829da303f\", \"foreground_color\": \"#1f77b4\", \"xdata_range\": {\"type\": \"DataRange1d\", \"id\": \"a6f2d10e-09ab-40b3-97b6-728984fcb96f\"}, \"ydata_range\": {\"type\": \"DataRange1d\", \"id\": \"1daee8ff-f2a7-4e52-bdee-b3bde6c7b1c7\"}, \"xfield\": \"Market_CapMM\", \"id\": \"c0929240-83bf-43f5-b6ed-6d1c1a35e741\"}, \"type\": \"ScatterRenderer\", \"id\": \"c0929240-83bf-43f5-b6ed-6d1c1a35e741\"}, {\"attributes\": {\"pandassource\": {\"type\": \"PandasDataSource\", \"id\": \"ac0ae5fa-c673-4589-919a-d408d7a789ac\"}, \"doc\": \"54e9d054-42f6-4a44-bbd9-93b829da303f\", \"data\": [{\"index\": 0, \"Market_Cap\": 16006877370.0, \"Offer Amount\": \"$16,006,877,370 \", \"Date Priced\": \"5/18/2012\", \"industry\": \"Tech\", \"Price\": 38.0, \"Symbol\": \"FB \", \"Shares\": 421233615.0, \"industry2\": \"Tech\", \"Market_CapMM\": 16006.87737, \"Market\": \"Nasdaq Global Market \", \"_counts\": 1.0, \"Per_Change\": -10.986136541982725, \" website\": \"http://www.nasdaq.com/markets/ipos/company/facebook-inc-673740-69138\", \"_selected\": 0.0, \"Company Name\": \"FACEBOOK INC \"}, {\"index\": 1, \"Market_Cap\": 100000000.0, \"Offer Amount\": \"$100,000,000 \", \"Date Priced\": \"5/11/2012\", \"industry\": \"Tech\", \"Price\": 8.0, \"Symbol\": \"EVAC \", \"Shares\": 12500000.0, \"industry2\": \"Tech\", \"Market_CapMM\": 100.0, \"Market\": \"Nasdaq National Market \", \"_counts\": 1.0, \"Per_Change\": -1.6184971098265961, \" website\": \"http://www.nasdaq.com/markets/ipos/company/edwards-group-ltd-877786-69467\", \"_selected\": 0.0, \"Company Name\": \"EDWARDS GROUP LTD \"}, {\"index\": 2, \"Market_Cap\": 80769234.0, \"Offer Amount\": \"$80,769,234 \", \"Date Priced\": \"5/11/2012\", \"industry\": \"services\", \"Price\": 14.0, \"Symbol\": \"IRG \", \"Shares\": 5769231.0, \"industry2\": \"restaurant\", \"Market_CapMM\": 80.769233999999997, \"Market\": \"Nasdaq National Market \", \"_counts\": 1.0, \"Per_Change\": 0.29188558085231009, \" website\": \"http://www.nasdaq.com/markets/ipos/company/ignite-restaurant-group-inc-861014-67789\", \"_selected\": 0.0, \"Company Name\": \"IGNITE RESTAURANT GROUP, INC. \"}, {\"index\": 3, \"Market_Cap\": 89593060.0, \"Offer Amount\": \"$89,593,060 \", \"Date Priced\": \"5/10/2012\", \"industry\": \"Tech\", \"Price\": 17.0, \"Symbol\": \"ADNC \", \"Shares\": 5270180.0, \"industry2\": \"Tech\", \"Market_CapMM\": 89.593059999999994, \"Market\": \"Nasdaq National Market \", \"_counts\": 1.0, \"Per_Change\": -0.50000000000000711, \" website\": \"http://www.nasdaq.com/markets/ipos/company/audience-inc-383417-69037\", \"_selected\": 0.0, \"Company Name\": \"AUDIENCE INC \"}, {\"index\": 4, \"Market_Cap\": 58500000.0, \"Offer Amount\": \"$58,500,000 \", \"Date Priced\": \"5/10/2012\", \"industry\": \"services\", \"Price\": 9.0, \"Symbol\": \"WAGE \", \"Shares\": 6500000.0, \"industry2\": \"business\", \"Market_CapMM\": 58.5, \"Market\": \"New York Stock Exchange \", \"_counts\": 1.0, \"Per_Change\": -3.7477148080438769, \" website\": \"http://www.nasdaq.com/markets/ipos/company/wageworks-inc-99738-66946\", \"_selected\": 0.0, \"Company Name\": \"WAGEWORKS, INC. \"}, {\"index\": 5, \"Market_Cap\": 160000000.0, \"Offer Amount\": \"$160,000,000 \", \"Date Priced\": \"5/10/2012\", \"industry\": \"Financial\", \"Price\": 20.0, \"Symbol\": \"WMC \", \"Shares\": 8000000.0, \"industry2\": \"bank\", \"Market_CapMM\": 160.0, \"Market\": \"New York Stock Exchange \", \"_counts\": 1.0, \"Per_Change\": -0.53050397877984834, \" website\": \"http://www.nasdaq.com/markets/ipos/company/western-asset-mortgage-capital-corp-806689-61292\", \"_selected\": 0.0, \"Company Name\": \"WESTERN ASSET MORTGAGE CAPITAL CORP \"}, {\"index\": 6, \"Market_Cap\": 124000000.0, \"Offer Amount\": \"$124,000,000 \", \"Date Priced\": \"5/4/2012\", \"industry\": \"services\", \"Price\": 15.5, \"Symbol\": \"TLYS \", \"Shares\": 8000000.0, \"industry2\": \"retail\", \"Market_CapMM\": 124.0, \"Market\": \"New York Stock Exchange \", \"_counts\": 1.0, \"Per_Change\": 1.4277215942891255, \" website\": \"http://www.google.com/finance?q=TLYS&ei=qWNgUZjvAoai0AGchwE\", \"_selected\": 0.0, \"Company Name\": \"TILLY'S, INC. \"}, {\"index\": 7, \"Market_Cap\": 595000000.0, \"Offer Amount\": \"$595,000,000 \", \"Date Priced\": \"5/4/2012\", \"industry\": \"Basic Materials\", \"Price\": 17.0, \"Symbol\": \"PDH \", \"Shares\": 35000000.0, \"industry2\": \"Chemical Manufacturing\", \"Market_CapMM\": 595.0, \"Market\": \"New York Stock Exchange \", \"_counts\": 1.0, \"Per_Change\": 1.6969696969697037, \" website\": \"http://www.google.com/finance?q=pdh&ei=qWNgUZjvAoai0AGchwE\", \"_selected\": 0.0, \"Company Name\": \"PETROLOGISTICS LP \"}, {\"index\": 8, \"Market_Cap\": 370000000.0, \"Offer Amount\": \"$370,000,000 \", \"Date Priced\": \"5/3/2012\", \"industry\": \"Financial\", \"Price\": 20.0, \"Symbol\": \"ROYT \", \"Shares\": 18500000.0, \"industry2\": \" Misc\", \"Market_CapMM\": 370.0, \"Market\": \"New York Stock Exchange \", \"_counts\": 1.0, \"Per_Change\": -0.74999999999999289, \" website\": \"http://www.google.com/finance?q=royt&ei=WWhgUaDaFuum0AHPVg\", \"_selected\": 0.0, \"Company Name\": \"PACIFIC COAST OIL TRUST \"}, {\"index\": 9, \"Market_Cap\": 671000000.0, \"Offer Amount\": \"$671,000,000 \", \"Date Priced\": \"5/3/2012\", \"industry\": \"Financial\", \"Price\": 22.0, \"Symbol\": \"CG \", \"Shares\": 30500000.0, \"industry2\": \"Investment Services\", \"Market_CapMM\": 671.0, \"Market\": \"Nasdaq National Market \", \"_counts\": 1.0, \"Per_Change\": 0.0, \" website\": \" \\\"http://www.google.com/finance?q=NASDAQ%3ACG&sq=cg&sp=3&ei=1GhgUbDhBK6r0AHWggE\\\"\", \"_selected\": 0.0, \"Company Name\": \"CARLYLE GROUP L.P. \"}, {\"index\": 10, \"Market_Cap\": 192200000.0, \"Offer Amount\": \"$192,200,000 \", \"Date Priced\": \"5/3/2012\", \"industry\": \"Financial\", \"Price\": 10.0, \"Symbol\": \"EVER \", \"Shares\": 19220000.0, \"industry2\": \"SandLs\", \"Market_CapMM\": 192.19999999999999, \"Market\": \"New York Stock Exchange \", \"_counts\": 1.0, \"Per_Change\": 1.7924528301886746, \" website\": \"http://www.google.com/finance?q=NYSE%3AEVER&sq=ever&sp=2&ei=F2lgUfiePKiI0QGIDA\", \"_selected\": 0.0, \"Company Name\": \"EVERBANK FINANCIAL CORP \"}, {\"index\": 11, \"Market_Cap\": 50000000.0, \"Offer Amount\": \"$50,000,000 \", \"Date Priced\": \"5/1/2012\", \"industry\": \"Healthcare\", \"Price\": 5.0, \"Symbol\": \"SUPN \", \"Shares\": 10000000.0, \"industry2\": \" Biotech\", \"Market_CapMM\": 50.0, \"Market\": \"Nasdaq National Market \", \"_counts\": 1.0, \"Per_Change\": 6.8901303538175069, \" website\": \" \\\"http://www.google.com/finance?q=supn&ei=NmlgUcDPJLS30QHdFw\\\"\", \"_selected\": 0.0, \"Company Name\": \"SUPERNUS PHARMACEUTICALS INC \"}, {\"index\": 12, \"Market_Cap\": 165000000.0, \"Offer Amount\": \"$165,000,000 \", \"Date Priced\": \"4/27/2012\", \"industry\": \"Basic Materials\", \"Price\": 11.0, \"Symbol\": \"EDG \", \"Shares\": 15000000.0, \"industry2\": \"Misc\", \"Market_CapMM\": 165.0, \"Market\": \"New York Stock Exchange \", \"_counts\": 1.0, \"Per_Change\": 0.99999999999999845, \" website\": \"http://www.google.com/finance?q=edg&ei=WWlgUaCnJ66r0AHWggE\", \"_selected\": 0.0, \"Company Name\": \"EDGEN GROUP INC. \"}, {\"index\": 13, \"Market_Cap\": 142450000.0, \"Offer Amount\": \"$142,450,000 \", \"Date Priced\": \"4/26/2012\", \"industry\": \"Financial\", \"Price\": 18.5, \"Symbol\": \"ACRE \", \"Shares\": 7700000.0, \"industry2\": \"Consumer\", \"Market_CapMM\": 142.44999999999999, \"Market\": \"New York Stock Exchange \", \"_counts\": 1.0, \"Per_Change\": 0.897867564534232, \" website\": \"http://www.google.com/finance?q=acre\", \"_selected\": 0.0, \"Company Name\": \"ARES COMMERCIAL REAL ESTATE CORP \"}, {\"index\": 14, \"Market_Cap\": 69795000.0, \"Offer Amount\": \"$69,795,000 \", \"Date Priced\": \"4/25/2012\", \"industry\": \"Tech\", \"Price\": 9.0, \"Symbol\": \"ENVI \", \"Shares\": 7755000.0, \"industry2\": \"Software\", \"Market_CapMM\": 69.795000000000002, \"Market\": \"Nasdaq National Market \", \"_counts\": 1.0, \"Per_Change\": -1.7667844522968239, \" website\": \"http://www.google.com/finance?q=envi\", \"_selected\": 0.0, \"Company Name\": \"ENVIVIO INC \"}, {\"index\": 15, \"Market_Cap\": 12000000.0, \"Offer Amount\": \"$12,000,000 \", \"Date Priced\": \"4/25/2012\", \"industry\": \"Tech\", \"Price\": 4.0, \"Symbol\": \"CLIR \", \"Shares\": 3000000.0, \"industry2\": \"Scientific\", \"Market_CapMM\": 12.0, \"Market\": \"Nasdaq SmallCap Market \", \"_counts\": 1.0, \"Per_Change\": 0.0, \" website\": \"http://www.google.com/finance?q=CLIR\", \"_selected\": 0.0, \"Company Name\": \"CLEARSIGN COMBUSTION CORP \"}, {\"index\": 16, \"Market_Cap\": 120000000.0, \"Offer Amount\": \"$120,000,000 \", \"Date Priced\": \"4/20/2012\", \"industry\": \"Tech\", \"Price\": 16.0, \"Symbol\": \"BLOX \", \"Shares\": 7500000.0, \"industry2\": \"Software\", \"Market_CapMM\": 120.0, \"Market\": \"New York Stock Exchange \", \"_counts\": 1.0, \"Per_Change\": -3.7558685446009425, \" website\": \"http://www.google.com/finance?q=BLOX\", \"_selected\": 0.0, \"Company Name\": \"INFOBLOX INC \"}, {\"index\": 17, \"Market_Cap\": 312000000.0, \"Offer Amount\": \"$312,000,000 \", \"Date Priced\": \"4/20/2012\", \"industry\": \"Energy\", \"Price\": 13.0, \"Symbol\": \"MPO \", \"Shares\": 24000000.0, \"industry2\": \"Oil\", \"Market_CapMM\": 312.0, \"Market\": \"New York Stock Exchange \", \"_counts\": 1.0, \"Per_Change\": 3.9999999999999973, \" website\": \"http://www.google.com/finance?q=MPO\", \"_selected\": 0.0, \"Company Name\": \"MIDSTATES PETROLEUM COMPANY, INC. \"}, {\"index\": 18, \"Market_Cap\": 82282473.0, \"Offer Amount\": \"$82,282,473 \", \"Date Priced\": \"4/20/2012\", \"industry\": \"Tech\", \"Price\": 13.0, \"Symbol\": \"PFPT \", \"Shares\": 6329421.0, \"industry2\": \"Software\", \"Market_CapMM\": 82.282472999999996, \"Market\": \"Nasdaq National Market \", \"_counts\": 1.0, \"Per_Change\": -2.3437500000000004, \" website\": \"http://www.google.com/finance?q=BLOX\", \"_selected\": 0.0, \"Company Name\": \"PROOFPOINT INC \"}, {\"index\": 19, \"Market_Cap\": 229500000.0, \"Offer Amount\": \"$229,500,000 \", \"Date Priced\": \"4/19/2012\", \"industry\": \"Tech\", \"Price\": 17.0, \"Symbol\": \"SPLK \", \"Shares\": 13500000.0, \"industry2\": \"Software\", \"Market_CapMM\": 229.5, \"Market\": \"Nasdaq National Market \", \"_counts\": 1.0, \"Per_Change\": 2.0293122886133204, \" website\": \"http://www.google.com/finance?q=SPLK\", \"_selected\": 0.0, \"Company Name\": \"SPLUNK INC \"}, {\"index\": 20, \"Market_Cap\": 338037570.0, \"Offer Amount\": \"$338,037,570 \", \"Date Priced\": \"4/19/2012\", \"industry\": \"Consumer\", \"Price\": 18.0, \"Symbol\": \"TUMI \", \"Shares\": 18779865.0, \"industry2\": \"Apparel\", \"Market_CapMM\": 338.03757000000002, \"Market\": \"New York Stock Exchange \", \"_counts\": 1.0, \"Per_Change\": -1.1320754716981158, \" website\": \"http://www.google.com/finance?q=TUMI\", \"_selected\": 0.0, \"Company Name\": \"TUMI HOLDINGS, INC. \"}, {\"index\": 21, \"Market_Cap\": 546000000.0, \"Offer Amount\": \"$546,000,000 \", \"Date Priced\": \"4/18/2012\", \"industry\": \"Financial\", \"Price\": 21.0, \"Symbol\": \"SDR \", \"Shares\": 26000000.0, \"industry2\": \"Investment\", \"Market_CapMM\": 546.0, \"Market\": \"New York Stock Exchange \", \"_counts\": 1.0, \"Per_Change\": 2.3529411764705883, \" website\": \"http://www.google.com/finance?q=SDR\", \"_selected\": 0.0, \"Company Name\": \"SANDRIDGE ENERGY INC \"}, {\"index\": 22, \"Market_Cap\": 13420000.0, \"Offer Amount\": \"$13,420,000 \", \"Date Priced\": \"4/17/2012\", \"industry\": \"Services\", \"Price\": 6.0999999999999996, \"Symbol\": \"DCIN \", \"Shares\": 2200000.0, \"industry2\": \"Motion Pictures\", \"Market_CapMM\": 13.42, \"Market\": \"Nasdaq SmallCap Market \", \"_counts\": 1.0, \"Per_Change\": 3.8709677419354875, \" website\": \"http://www.google.com/finance?q=DCIN\", \"_selected\": 0.0, \"Company Name\": \"DIGITAL CINEMA DESTINATIONS CORP. \"}, {\"index\": 23, \"Market_Cap\": 477272733.0, \"Offer Amount\": \"$477,272,733 \", \"Date Priced\": \"4/12/2012\", \"industry\": \"Basic Materials\", \"Price\": 21.0, \"Symbol\": \"MRC \", \"Shares\": 22727273.0, \"industry2\": \"Misc\", \"Market_CapMM\": 477.27273300000002, \"Market\": \"New York Stock Exchange \", \"_counts\": 1.0, \"Per_Change\": -1.1406844106463805, \" website\": \"http://www.google.com/finance?q=MRC\", \"_selected\": 0.0, \"Company Name\": \"MRC GLOBAL INC. \"}, {\"index\": 24, \"Market_Cap\": 378947320.0, \"Offer Amount\": \"$378,947,320 \", \"Date Priced\": \"4/12/2012\", \"industry\": \"Energy\", \"Price\": 20.0, \"Symbol\": \"FET \", \"Shares\": 18947366.0, \"industry2\": \"Oil Well Services\", \"Market_CapMM\": 378.94731999999999, \"Market\": \"New York Stock Exchange \", \"_counts\": 1.0, \"Per_Change\": -1.1494252873563218, \" website\": \"http://www.google.com/finance?q=FET\", \"_selected\": 0.0, \"Company Name\": \"FORUM ENERGY TECHNOLOGIES, INC. \"}, {\"index\": 25, \"Market_Cap\": 380249989.0, \"Offer Amount\": \"$380,249,989 \", \"Date Priced\": \"4/12/2012\", \"industry\": \"Financial\", \"Price\": 43.0, \"Symbol\": \"OAK \", \"Shares\": 8843023.0, \"industry2\": \"Investment\", \"Market_CapMM\": 380.24998900000003, \"Market\": \"New York Stock Exchange \", \"_counts\": 1.0, \"Per_Change\": -2.0995517810804452, \" website\": \"http://www.google.com/finance?q=OAK\", \"_selected\": 0.0, \"Company Name\": \"OAKTREE CAPITAL GROUP, LLC \"}, {\"index\": 26, \"Market_Cap\": 38400000.0, \"Offer Amount\": \"$38,400,000 \", \"Date Priced\": \"4/11/2012\", \"industry\": \"Capital Goods\", \"Price\": 8.0, \"Symbol\": \"EAC \", \"Shares\": 4800000.0, \"industry2\": \"Aerospace\", \"Market_CapMM\": 38.399999999999999, \"Market\": \"Nasdaq National Market \", \"_counts\": 1.0, \"Per_Change\": 0.37499999999999201, \" website\": \"http://www.google.com/finance?q=EAC\", \"_selected\": 0.0, \"Company Name\": \"ERICKSON AIR-CRANE INC \"}, {\"index\": 27, \"Market_Cap\": 254400000.0, \"Offer Amount\": \"$254,400,000 \", \"Date Priced\": \"4/5/2012\", \"industry\": \"Services\", \"Price\": 8.0, \"Symbol\": \"RPAI \", \"Shares\": 31800000.0, \"industry2\": \"Real Estate\", \"Market_CapMM\": 254.40000000000001, \"Market\": \"New York Stock Exchange \", \"_counts\": 1.0, \"Per_Change\": -3.2150776053214987, \" website\": \"http://www.google.com/finance?q=RPAI\", \"_selected\": 0.0, \"Company Name\": \"RETAIL PROPERTIES OF AMERICA, INC. \"}], \"id\": \"c7a30fa5-013d-457c-831e-f8845f1e73e4\"}, \"type\": \"PandasPlotSource\", \"id\": \"c7a30fa5-013d-457c-831e-f8845f1e73e4\"}, {\"attributes\": {\"parent\": {\"type\": \"GridPlotContainer\", \"id\": \"64a73aef-51e1-4001-94f4-111f6f0d199e\"}, \"created\": true, \"doc\": \"54e9d054-42f6-4a44-bbd9-93b829da303f\", \"axes\": [{\"type\": \"LinearAxis\", \"id\": \"4f86bc5d-1a3b-4398-a8cb-be77e65109c2\"}, {\"type\": \"LinearAxis\", \"id\": \"12cdd35b-3f5d-4422-b16d-e354325fcae7\"}], \"renderers\": [{\"type\": \"ScatterRenderer\", \"id\": \"63ece8dd-a0b8-4794-886b-bc47c683a2a0\"}], \"height\": 300, \"width\": 300, \"overlays\": [{\"type\": \"BoxSelectionOverlay\", \"id\": \"7428395e-7f37-40bd-9b9a-c3c3864f2dd1\"}], \"tools\": [{\"type\": \"PanTool\", \"id\": \"03e82abb-6839-464b-a01d-bb41575461cd\"}, {\"type\": \"ZoomTool\", \"id\": \"a46821c9-f877-4849-86e3-be051a4469a0\"}, {\"type\": \"SelectionTool\", \"id\": \"cd4f88b5-e27f-4c36-bc7f-3f4ea9b75a60\"}], \"id\": \"c5beceaf-2405-4438-a8e0-1049e9d82e8a\"}, \"type\": \"Plot\", \"id\": \"c5beceaf-2405-4438-a8e0-1049e9d82e8a\"}, {\"attributes\": {\"sources\": [{\"ref\": {\"type\": \"PandasPlotSource\", \"id\": \"b8c4db26-d970-4f95-8895-744b4fb9633c\"}, \"columns\": [\"Market_CapMM\"]}], \"doc\": \"54e9d054-42f6-4a44-bbd9-93b829da303f\", \"id\": \"e458c594-fdfe-4b4e-af6e-9d5ab7a8f746\", \"created\": true}, \"type\": \"DataRange1d\", \"id\": \"e458c594-fdfe-4b4e-af6e-9d5ab7a8f746\"}, {\"attributes\": {\"sources\": [{\"ref\": {\"type\": \"PandasPlotSource\", \"id\": \"b8c4db26-d970-4f95-8895-744b4fb9633c\"}, \"columns\": [\"Per_Change\"]}], \"doc\": \"54e9d054-42f6-4a44-bbd9-93b829da303f\", \"id\": \"52c98597-89a4-4ad7-b91e-9f03b7904a2f\", \"created\": true}, \"type\": \"DataRange1d\", \"id\": \"52c98597-89a4-4ad7-b91e-9f03b7904a2f\"}, {\"attributes\": {\"id\": \"03e82abb-6839-464b-a01d-bb41575461cd\", \"doc\": \"54e9d054-42f6-4a44-bbd9-93b829da303f\", \"dataranges\": [{\"type\": \"DataRange1d\", \"id\": \"e458c594-fdfe-4b4e-af6e-9d5ab7a8f746\"}, {\"type\": \"DataRange1d\", \"id\": \"52c98597-89a4-4ad7-b91e-9f03b7904a2f\"}], \"dimensions\": [\"width\", \"height\"], \"created\": true}, \"type\": \"PanTool\", \"id\": \"03e82abb-6839-464b-a01d-bb41575461cd\"}, {\"attributes\": {\"id\": \"a46821c9-f877-4849-86e3-be051a4469a0\", \"doc\": \"54e9d054-42f6-4a44-bbd9-93b829da303f\", \"dataranges\": [{\"type\": \"DataRange1d\", \"id\": \"e458c594-fdfe-4b4e-af6e-9d5ab7a8f746\"}, {\"type\": \"DataRange1d\", \"id\": \"52c98597-89a4-4ad7-b91e-9f03b7904a2f\"}], \"dimensions\": [\"width\", \"height\"], \"created\": true}, \"type\": \"ZoomTool\", \"id\": \"a46821c9-f877-4849-86e3-be051a4469a0\"}, {\"attributes\": {\"id\": \"cd4f88b5-e27f-4c36-bc7f-3f4ea9b75a60\", \"doc\": \"54e9d054-42f6-4a44-bbd9-93b829da303f\", \"renderers\": [{\"type\": \"ScatterRenderer\", \"id\": \"63ece8dd-a0b8-4794-886b-bc47c683a2a0\"}], \"created\": true}, \"type\": \"SelectionTool\", \"id\": \"cd4f88b5-e27f-4c36-bc7f-3f4ea9b75a60\"}, {\"attributes\": {\"doc\": \"54e9d054-42f6-4a44-bbd9-93b829da303f\", \"tool\": {\"type\": \"SelectionTool\", \"id\": \"cd4f88b5-e27f-4c36-bc7f-3f4ea9b75a60\"}, \"id\": \"7428395e-7f37-40bd-9b9a-c3c3864f2dd1\", \"created\": true}, \"type\": \"BoxSelectionOverlay\", \"id\": \"7428395e-7f37-40bd-9b9a-c3c3864f2dd1\"}, {\"attributes\": {\"orientation\": \"bottom\", \"parent\": {\"type\": \"Plot\", \"id\": \"c5beceaf-2405-4438-a8e0-1049e9d82e8a\"}, \"created\": true, \"doc\": \"54e9d054-42f6-4a44-bbd9-93b829da303f\", \"ticks\": 3, \"data_range\": {\"type\": \"DataRange1d\", \"id\": \"e458c594-fdfe-4b4e-af6e-9d5ab7a8f746\"}, \"id\": \"4f86bc5d-1a3b-4398-a8cb-be77e65109c2\"}, \"type\": \"LinearAxis\", \"id\": \"4f86bc5d-1a3b-4398-a8cb-be77e65109c2\"}, {\"attributes\": {\"orientation\": \"left\", \"parent\": {\"type\": \"Plot\", \"id\": \"c5beceaf-2405-4438-a8e0-1049e9d82e8a\"}, \"created\": true, \"doc\": \"54e9d054-42f6-4a44-bbd9-93b829da303f\", \"ticks\": 3, \"data_range\": {\"type\": \"DataRange1d\", \"id\": \"52c98597-89a4-4ad7-b91e-9f03b7904a2f\"}, \"id\": \"12cdd35b-3f5d-4422-b16d-e354325fcae7\"}, \"type\": \"LinearAxis\", \"id\": \"12cdd35b-3f5d-4422-b16d-e354325fcae7\"}, {\"attributes\": {\"yfield\": \"Per_Change\", \"data_source\": {\"type\": \"PandasPlotSource\", \"id\": \"b8c4db26-d970-4f95-8895-744b4fb9633c\"}, \"parent\": {\"type\": \"Plot\", \"id\": \"c5beceaf-2405-4438-a8e0-1049e9d82e8a\"}, \"created\": true, \"doc\": \"54e9d054-42f6-4a44-bbd9-93b829da303f\", \"foreground_color\": \"#1f77b4\", \"xdata_range\": {\"type\": \"DataRange1d\", \"id\": \"e458c594-fdfe-4b4e-af6e-9d5ab7a8f746\"}, \"ydata_range\": {\"type\": \"DataRange1d\", \"id\": \"52c98597-89a4-4ad7-b91e-9f03b7904a2f\"}, \"xfield\": \"Market_CapMM\", \"id\": \"63ece8dd-a0b8-4794-886b-bc47c683a2a0\"}, \"type\": \"ScatterRenderer\", \"id\": \"63ece8dd-a0b8-4794-886b-bc47c683a2a0\"}, {\"attributes\": {\"pandassource\": {\"type\": \"PandasDataSource\", \"id\": \"a741ba06-064f-48f9-8811-bca79713a9c4\"}, \"doc\": \"54e9d054-42f6-4a44-bbd9-93b829da303f\", \"data\": [{\"index\": 1, \"Market_Cap\": 100000000.0, \"Offer Amount\": \"$100,000,000 \", \"Date Priced\": \"5/11/2012\", \"industry\": \"Tech\", \"Shares\": 12500000.0, \"Price\": 8.0, \"Market_CapMM\": 100.0, \"industry2\": \"Tech\", \"Market\": \"Nasdaq National Market \", \"Per_Change\": -1.6184971098265961, \" website\": \"http://www.nasdaq.com/markets/ipos/company/edwards-group-ltd-877786-69467\", \"Symbol\": \"EVAC \", \"Company Name\": \"EDWARDS GROUP LTD \"}, {\"index\": 2, \"Market_Cap\": 80769234.0, \"Offer Amount\": \"$80,769,234 \", \"Date Priced\": \"5/11/2012\", \"industry\": \"services\", \"Shares\": 5769231.0, \"Price\": 14.0, \"Market_CapMM\": 80.769233999999997, \"industry2\": \"restaurant\", \"Market\": \"Nasdaq National Market \", \"Per_Change\": 0.29188558085231009, \" website\": \"http://www.nasdaq.com/markets/ipos/company/ignite-restaurant-group-inc-861014-67789\", \"Symbol\": \"IRG \", \"Company Name\": \"IGNITE RESTAURANT GROUP, INC. \"}, {\"index\": 3, \"Market_Cap\": 89593060.0, \"Offer Amount\": \"$89,593,060 \", \"Date Priced\": \"5/10/2012\", \"industry\": \"Tech\", \"Shares\": 5270180.0, \"Price\": 17.0, \"Market_CapMM\": 89.593059999999994, \"industry2\": \"Tech\", \"Market\": \"Nasdaq National Market \", \"Per_Change\": -0.50000000000000711, \" website\": \"http://www.nasdaq.com/markets/ipos/company/audience-inc-383417-69037\", \"Symbol\": \"ADNC \", \"Company Name\": \"AUDIENCE INC \"}, {\"index\": 4, \"Market_Cap\": 58500000.0, \"Offer Amount\": \"$58,500,000 \", \"Date Priced\": \"5/10/2012\", \"industry\": \"services\", \"Shares\": 6500000.0, \"Price\": 9.0, \"Market_CapMM\": 58.5, \"industry2\": \"business\", \"Market\": \"New York Stock Exchange \", \"Per_Change\": -3.7477148080438769, \" website\": \"http://www.nasdaq.com/markets/ipos/company/wageworks-inc-99738-66946\", \"Symbol\": \"WAGE \", \"Company Name\": \"WAGEWORKS, INC. \"}, {\"index\": 5, \"Market_Cap\": 160000000.0, \"Offer Amount\": \"$160,000,000 \", \"Date Priced\": \"5/10/2012\", \"industry\": \"Financial\", \"Shares\": 8000000.0, \"Price\": 20.0, \"Market_CapMM\": 160.0, \"industry2\": \"bank\", \"Market\": \"New York Stock Exchange \", \"Per_Change\": -0.53050397877984834, \" website\": \"http://www.nasdaq.com/markets/ipos/company/western-asset-mortgage-capital-corp-806689-61292\", \"Symbol\": \"WMC \", \"Company Name\": \"WESTERN ASSET MORTGAGE CAPITAL CORP \"}, {\"index\": 6, \"Market_Cap\": 124000000.0, \"Offer Amount\": \"$124,000,000 \", \"Date Priced\": \"5/4/2012\", \"industry\": \"services\", \"Shares\": 8000000.0, \"Price\": 15.5, \"Market_CapMM\": 124.0, \"industry2\": \"retail\", \"Market\": \"New York Stock Exchange \", \"Per_Change\": 1.4277215942891255, \" website\": \"http://www.google.com/finance?q=TLYS&ei=qWNgUZjvAoai0AGchwE\", \"Symbol\": \"TLYS \", \"Company Name\": \"TILLY'S, INC. \"}, {\"index\": 7, \"Market_Cap\": 595000000.0, \"Offer Amount\": \"$595,000,000 \", \"Date Priced\": \"5/4/2012\", \"industry\": \"Basic Materials\", \"Shares\": 35000000.0, \"Price\": 17.0, \"Market_CapMM\": 595.0, \"industry2\": \"Chemical Manufacturing\", \"Market\": \"New York Stock Exchange \", \"Per_Change\": 1.6969696969697037, \" website\": \"http://www.google.com/finance?q=pdh&ei=qWNgUZjvAoai0AGchwE\", \"Symbol\": \"PDH \", \"Company Name\": \"PETROLOGISTICS LP \"}, {\"index\": 8, \"Market_Cap\": 370000000.0, \"Offer Amount\": \"$370,000,000 \", \"Date Priced\": \"5/3/2012\", \"industry\": \"Financial\", \"Shares\": 18500000.0, \"Price\": 20.0, \"Market_CapMM\": 370.0, \"industry2\": \" Misc\", \"Market\": \"New York Stock Exchange \", \"Per_Change\": -0.74999999999999289, \" website\": \"http://www.google.com/finance?q=royt&ei=WWhgUaDaFuum0AHPVg\", \"Symbol\": \"ROYT \", \"Company Name\": \"PACIFIC COAST OIL TRUST \"}, {\"index\": 9, \"Market_Cap\": 671000000.0, \"Offer Amount\": \"$671,000,000 \", \"Date Priced\": \"5/3/2012\", \"industry\": \"Financial\", \"Shares\": 30500000.0, \"Price\": 22.0, \"Market_CapMM\": 671.0, \"industry2\": \"Investment Services\", \"Market\": \"Nasdaq National Market \", \"Per_Change\": 0.0, \" website\": \" \\\"http://www.google.com/finance?q=NASDAQ%3ACG&sq=cg&sp=3&ei=1GhgUbDhBK6r0AHWggE\\\"\", \"Symbol\": \"CG \", \"Company Name\": \"CARLYLE GROUP L.P. \"}, {\"index\": 10, \"Market_Cap\": 192200000.0, \"Offer Amount\": \"$192,200,000 \", \"Date Priced\": \"5/3/2012\", \"industry\": \"Financial\", \"Shares\": 19220000.0, \"Price\": 10.0, \"Market_CapMM\": 192.19999999999999, \"industry2\": \"SandLs\", \"Market\": \"New York Stock Exchange \", \"Per_Change\": 1.7924528301886746, \" website\": \"http://www.google.com/finance?q=NYSE%3AEVER&sq=ever&sp=2&ei=F2lgUfiePKiI0QGIDA\", \"Symbol\": \"EVER \", \"Company Name\": \"EVERBANK FINANCIAL CORP \"}, {\"index\": 11, \"Market_Cap\": 50000000.0, \"Offer Amount\": \"$50,000,000 \", \"Date Priced\": \"5/1/2012\", \"industry\": \"Healthcare\", \"Shares\": 10000000.0, \"Price\": 5.0, \"Market_CapMM\": 50.0, \"industry2\": \" Biotech\", \"Market\": \"Nasdaq National Market \", \"Per_Change\": 6.8901303538175069, \" website\": \" \\\"http://www.google.com/finance?q=supn&ei=NmlgUcDPJLS30QHdFw\\\"\", \"Symbol\": \"SUPN \", \"Company Name\": \"SUPERNUS PHARMACEUTICALS INC \"}, {\"index\": 12, \"Market_Cap\": 165000000.0, \"Offer Amount\": \"$165,000,000 \", \"Date Priced\": \"4/27/2012\", \"industry\": \"Basic Materials\", \"Shares\": 15000000.0, \"Price\": 11.0, \"Market_CapMM\": 165.0, \"industry2\": \"Misc\", \"Market\": \"New York Stock Exchange \", \"Per_Change\": 0.99999999999999845, \" website\": \"http://www.google.com/finance?q=edg&ei=WWlgUaCnJ66r0AHWggE\", \"Symbol\": \"EDG \", \"Company Name\": \"EDGEN GROUP INC. \"}, {\"index\": 13, \"Market_Cap\": 142450000.0, \"Offer Amount\": \"$142,450,000 \", \"Date Priced\": \"4/26/2012\", \"industry\": \"Financial\", \"Shares\": 7700000.0, \"Price\": 18.5, \"Market_CapMM\": 142.44999999999999, \"industry2\": \"Consumer\", \"Market\": \"New York Stock Exchange \", \"Per_Change\": 0.897867564534232, \" website\": \"http://www.google.com/finance?q=acre\", \"Symbol\": \"ACRE \", \"Company Name\": \"ARES COMMERCIAL REAL ESTATE CORP \"}, {\"index\": 14, \"Market_Cap\": 69795000.0, \"Offer Amount\": \"$69,795,000 \", \"Date Priced\": \"4/25/2012\", \"industry\": \"Tech\", \"Shares\": 7755000.0, \"Price\": 9.0, \"Market_CapMM\": 69.795000000000002, \"industry2\": \"Software\", \"Market\": \"Nasdaq National Market \", \"Per_Change\": -1.7667844522968239, \" website\": \"http://www.google.com/finance?q=envi\", \"Symbol\": \"ENVI \", \"Company Name\": \"ENVIVIO INC \"}, {\"index\": 15, \"Market_Cap\": 12000000.0, \"Offer Amount\": \"$12,000,000 \", \"Date Priced\": \"4/25/2012\", \"industry\": \"Tech\", \"Shares\": 3000000.0, \"Price\": 4.0, \"Market_CapMM\": 12.0, \"industry2\": \"Scientific\", \"Market\": \"Nasdaq SmallCap Market \", \"Per_Change\": 0.0, \" website\": \"http://www.google.com/finance?q=CLIR\", \"Symbol\": \"CLIR \", \"Company Name\": \"CLEARSIGN COMBUSTION CORP \"}, {\"index\": 16, \"Market_Cap\": 120000000.0, \"Offer Amount\": \"$120,000,000 \", \"Date Priced\": \"4/20/2012\", \"industry\": \"Tech\", \"Shares\": 7500000.0, \"Price\": 16.0, \"Market_CapMM\": 120.0, \"industry2\": \"Software\", \"Market\": \"New York Stock Exchange \", \"Per_Change\": -3.7558685446009425, \" website\": \"http://www.google.com/finance?q=BLOX\", \"Symbol\": \"BLOX \", \"Company Name\": \"INFOBLOX INC \"}, {\"index\": 17, \"Market_Cap\": 312000000.0, \"Offer Amount\": \"$312,000,000 \", \"Date Priced\": \"4/20/2012\", \"industry\": \"Energy\", \"Shares\": 24000000.0, \"Price\": 13.0, \"Market_CapMM\": 312.0, \"industry2\": \"Oil\", \"Market\": \"New York Stock Exchange \", \"Per_Change\": 3.9999999999999973, \" website\": \"http://www.google.com/finance?q=MPO\", \"Symbol\": \"MPO \", \"Company Name\": \"MIDSTATES PETROLEUM COMPANY, INC. \"}, {\"index\": 18, \"Market_Cap\": 82282473.0, \"Offer Amount\": \"$82,282,473 \", \"Date Priced\": \"4/20/2012\", \"industry\": \"Tech\", \"Shares\": 6329421.0, \"Price\": 13.0, \"Market_CapMM\": 82.282472999999996, \"industry2\": \"Software\", \"Market\": \"Nasdaq National Market \", \"Per_Change\": -2.3437500000000004, \" website\": \"http://www.google.com/finance?q=BLOX\", \"Symbol\": \"PFPT \", \"Company Name\": \"PROOFPOINT INC \"}, {\"index\": 19, \"Market_Cap\": 229500000.0, \"Offer Amount\": \"$229,500,000 \", \"Date Priced\": \"4/19/2012\", \"industry\": \"Tech\", \"Shares\": 13500000.0, \"Price\": 17.0, \"Market_CapMM\": 229.5, \"industry2\": \"Software\", \"Market\": \"Nasdaq National Market \", \"Per_Change\": 2.0293122886133204, \" website\": \"http://www.google.com/finance?q=SPLK\", \"Symbol\": \"SPLK \", \"Company Name\": \"SPLUNK INC \"}, {\"index\": 20, \"Market_Cap\": 338037570.0, \"Offer Amount\": \"$338,037,570 \", \"Date Priced\": \"4/19/2012\", \"industry\": \"Consumer\", \"Shares\": 18779865.0, \"Price\": 18.0, \"Market_CapMM\": 338.03757000000002, \"industry2\": \"Apparel\", \"Market\": \"New York Stock Exchange \", \"Per_Change\": -1.1320754716981158, \" website\": \"http://www.google.com/finance?q=TUMI\", \"Symbol\": \"TUMI \", \"Company Name\": \"TUMI HOLDINGS, INC. \"}, {\"index\": 21, \"Market_Cap\": 546000000.0, \"Offer Amount\": \"$546,000,000 \", \"Date Priced\": \"4/18/2012\", \"industry\": \"Financial\", \"Shares\": 26000000.0, \"Price\": 21.0, \"Market_CapMM\": 546.0, \"industry2\": \"Investment\", \"Market\": \"New York Stock Exchange \", \"Per_Change\": 2.3529411764705883, \" website\": \"http://www.google.com/finance?q=SDR\", \"Symbol\": \"SDR \", \"Company Name\": \"SANDRIDGE ENERGY INC \"}, {\"index\": 22, \"Market_Cap\": 13420000.0, \"Offer Amount\": \"$13,420,000 \", \"Date Priced\": \"4/17/2012\", \"industry\": \"Services\", \"Shares\": 2200000.0, \"Price\": 6.0999999999999996, \"Market_CapMM\": 13.42, \"industry2\": \"Motion Pictures\", \"Market\": \"Nasdaq SmallCap Market \", \"Per_Change\": 3.8709677419354875, \" website\": \"http://www.google.com/finance?q=DCIN\", \"Symbol\": \"DCIN \", \"Company Name\": \"DIGITAL CINEMA DESTINATIONS CORP. \"}, {\"index\": 23, \"Market_Cap\": 477272733.0, \"Offer Amount\": \"$477,272,733 \", \"Date Priced\": \"4/12/2012\", \"industry\": \"Basic Materials\", \"Shares\": 22727273.0, \"Price\": 21.0, \"Market_CapMM\": 477.27273300000002, \"industry2\": \"Misc\", \"Market\": \"New York Stock Exchange \", \"Per_Change\": -1.1406844106463805, \" website\": \"http://www.google.com/finance?q=MRC\", \"Symbol\": \"MRC \", \"Company Name\": \"MRC GLOBAL INC. \"}, {\"index\": 24, \"Market_Cap\": 378947320.0, \"Offer Amount\": \"$378,947,320 \", \"Date Priced\": \"4/12/2012\", \"industry\": \"Energy\", \"Shares\": 18947366.0, \"Price\": 20.0, \"Market_CapMM\": 378.94731999999999, \"industry2\": \"Oil Well Services\", \"Market\": \"New York Stock Exchange \", \"Per_Change\": -1.1494252873563218, \" website\": \"http://www.google.com/finance?q=FET\", \"Symbol\": \"FET \", \"Company Name\": \"FORUM ENERGY TECHNOLOGIES, INC. \"}, {\"index\": 25, \"Market_Cap\": 380249989.0, \"Offer Amount\": \"$380,249,989 \", \"Date Priced\": \"4/12/2012\", \"industry\": \"Financial\", \"Shares\": 8843023.0, \"Price\": 43.0, \"Market_CapMM\": 380.24998900000003, \"industry2\": \"Investment\", \"Market\": \"New York Stock Exchange \", \"Per_Change\": -2.0995517810804452, \" website\": \"http://www.google.com/finance?q=OAK\", \"Symbol\": \"OAK \", \"Company Name\": \"OAKTREE CAPITAL GROUP, LLC \"}, {\"index\": 26, \"Market_Cap\": 38400000.0, \"Offer Amount\": \"$38,400,000 \", \"Date Priced\": \"4/11/2012\", \"industry\": \"Capital Goods\", \"Shares\": 4800000.0, \"Price\": 8.0, \"Market_CapMM\": 38.399999999999999, \"industry2\": \"Aerospace\", \"Market\": \"Nasdaq National Market \", \"Per_Change\": 0.37499999999999201, \" website\": \"http://www.google.com/finance?q=EAC\", \"Symbol\": \"EAC \", \"Company Name\": \"ERICKSON AIR-CRANE INC \"}, {\"index\": 27, \"Market_Cap\": 254400000.0, \"Offer Amount\": \"$254,400,000 \", \"Date Priced\": \"4/5/2012\", \"industry\": \"Services\", \"Shares\": 31800000.0, \"Price\": 8.0, \"Market_CapMM\": 254.40000000000001, \"industry2\": \"Real Estate\", \"Market\": \"New York Stock Exchange \", \"Per_Change\": -3.2150776053214987, \" website\": \"http://www.google.com/finance?q=RPAI\", \"Symbol\": \"RPAI \", \"Company Name\": \"RETAIL PROPERTIES OF AMERICA, INC. \"}], \"id\": \"b8c4db26-d970-4f95-8895-744b4fb9633c\"}, \"type\": \"PandasPlotSource\", \"id\": \"b8c4db26-d970-4f95-8895-744b4fb9633c\"}];\n",
        "var modelid = \"64a73aef-51e1-4001-94f4-111f6f0d199e\";\n",
        "var modeltype = \"GridPlotContainer\";\n",
        "var elementid = \"0712db1c-771f-44b6-a059-0baa30131b68\";\n",
        "var view;\n",
        "base = require(\"./base\")\n",
        "console.log(modelid, modeltype, elementid);\n",
        "base.load_models(all_models);\n",
        "var model = base.Collections(modeltype).get(modelid)\n",
        "window.model=model;\n",
        "var view = new model.default_view(\n",
        "    {model : model}\n",
        ");\n",
        "window.view = view;\n",
        "view.render()\n",
        "_.delay(function(){\n",
        "    $('#0712db1c-771f-44b6-a059-0baa30131b68').append(view.$el)\n",
        "}, 1000);\n",
        "    \n",
        "    });\n",
        "  </script>\n",
        "  \n",
        "  <div id=\"0712db1c-771f-44b6-a059-0baa30131b68\">Plots</div>\n",
        "\n",
        "  \n",
        "</div>"
       ],
       "output_type": "pyout",
       "prompt_number": 18,
       "text": [
        "<bokeh.mpl.GridPlot at 0x106d0bc90>"
       ]
      }
     ],
     "prompt_number": 18
    },
    {
     "cell_type": "code",
     "collapsed": false,
     "input": [
      "table = p.pandastable(source, width=600)\n",
      "table"
     ],
     "language": "python",
     "metadata": {},
     "outputs": [
      {
       "html": [
        "<div>\n",
        "  \n",
        "  \n",
        "  <script type=\"text/javascript\">\n",
        "    $(function(){      \n",
        "    \n",
        "    var all_models = [{\"attributes\": {\"sort\": [], \"index\": [0, 1, 2, 3, 4, 5, 6, 7, 8, 9, 10, 11, 12, 13, 14, 15, 16, 17, 18, 19, 20, 21, 22, 23, 24, 25, 26, 27], \"selection\": [], \"created\": true, \"agg\": \"sum\", \"doc\": \"54e9d054-42f6-4a44-bbd9-93b829da303f\", \"maxlength\": 28, \"height\": 400, \"width\": 600, \"length\": 28, \"selected\": [0.0, 0.0, 0.0, 0.0, 0.0, 0.0, 0.0, 0.0, 0.0, 0.0, 0.0, 0.0, 0.0, 0.0, 0.0, 0.0, 0.0, 0.0, 0.0, 0.0, 0.0, 0.0, 0.0, 0.0, 0.0, 0.0, 0.0, 0.0], \"groups\": [], \"offset\": 0, \"id\": \"5db7351e-d235-41a5-8668-0f17cc154cef\", \"counts\": null, \"data\": [{\"Market_Cap\": \"16006877370.00\", \"Date Priced\": \"5/18/2012\", \"Offer Amount\": \"$16,006,877,370 \", \"industry\": \"Tech\", \"Symbol\": \"FB \", \"Shares\": \"421233615.00\", \"Price\": \"38.00\", \"Market_CapMM\": \"16006.88\", \"Company Name\": \"FACEBOOK INC \", \"Per_Change\": \"-10.99\", \" website\": \"http://www.nasdaq.com/markets/ipos/company/facebook-inc-673740-69138\", \"industry2\": \"Tech\", \"Market\": \"Nasdaq Global Market \"}, {\"Market_Cap\": \"100000000.00\", \"Date Priced\": \"5/11/2012\", \"Offer Amount\": \"$100,000,000 \", \"industry\": \"Tech\", \"Symbol\": \"EVAC \", \"Shares\": \"12500000.00\", \"Price\": \"8.00\", \"Market_CapMM\": \"100.00\", \"Company Name\": \"EDWARDS GROUP LTD \", \"Per_Change\": \"-1.62\", \" website\": \"http://www.nasdaq.com/markets/ipos/company/edwards-group-ltd-877786-69467\", \"industry2\": \"Tech\", \"Market\": \"Nasdaq National Market \"}, {\"Market_Cap\": \"80769234.00\", \"Date Priced\": \"5/11/2012\", \"Offer Amount\": \"$80,769,234 \", \"industry\": \"services\", \"Symbol\": \"IRG \", \"Shares\": \"5769231.00\", \"Price\": \"14.00\", \"Market_CapMM\": \"80.77\", \"Company Name\": \"IGNITE RESTAURANT GROUP, INC. \", \"Per_Change\": \"0.29\", \" website\": \"http://www.nasdaq.com/markets/ipos/company/ignite-restaurant-group-inc-861014-67789\", \"industry2\": \"restaurant\", \"Market\": \"Nasdaq National Market \"}, {\"Market_Cap\": \"89593060.00\", \"Date Priced\": \"5/10/2012\", \"Offer Amount\": \"$89,593,060 \", \"industry\": \"Tech\", \"Symbol\": \"ADNC \", \"Shares\": \"5270180.00\", \"Price\": \"17.00\", \"Market_CapMM\": \"89.59\", \"Company Name\": \"AUDIENCE INC \", \"Per_Change\": \"-0.50\", \" website\": \"http://www.nasdaq.com/markets/ipos/company/audience-inc-383417-69037\", \"industry2\": \"Tech\", \"Market\": \"Nasdaq National Market \"}, {\"Market_Cap\": \"58500000.00\", \"Date Priced\": \"5/10/2012\", \"Offer Amount\": \"$58,500,000 \", \"industry\": \"services\", \"Symbol\": \"WAGE \", \"Shares\": \"6500000.00\", \"Price\": \"9.00\", \"Market_CapMM\": \"58.50\", \"Company Name\": \"WAGEWORKS, INC. \", \"Per_Change\": \"-3.75\", \" website\": \"http://www.nasdaq.com/markets/ipos/company/wageworks-inc-99738-66946\", \"industry2\": \"business\", \"Market\": \"New York Stock Exchange \"}, {\"Market_Cap\": \"160000000.00\", \"Date Priced\": \"5/10/2012\", \"Offer Amount\": \"$160,000,000 \", \"industry\": \"Financial\", \"Symbol\": \"WMC \", \"Shares\": \"8000000.00\", \"Price\": \"20.00\", \"Market_CapMM\": \"160.00\", \"Company Name\": \"WESTERN ASSET MORTGAGE CAPITAL CORP \", \"Per_Change\": \"-0.53\", \" website\": \"http://www.nasdaq.com/markets/ipos/company/western-asset-mortgage-capital-corp-806689-61292\", \"industry2\": \"bank\", \"Market\": \"New York Stock Exchange \"}, {\"Market_Cap\": \"124000000.00\", \"Date Priced\": \"5/4/2012\", \"Offer Amount\": \"$124,000,000 \", \"industry\": \"services\", \"Symbol\": \"TLYS \", \"Shares\": \"8000000.00\", \"Price\": \"15.50\", \"Market_CapMM\": \"124.00\", \"Company Name\": \"TILLY'S, INC. \", \"Per_Change\": \"1.43\", \" website\": \"http://www.google.com/finance?q=TLYS&ei=qWNgUZjvAoai0AGchwE\", \"industry2\": \"retail\", \"Market\": \"New York Stock Exchange \"}, {\"Market_Cap\": \"595000000.00\", \"Date Priced\": \"5/4/2012\", \"Offer Amount\": \"$595,000,000 \", \"industry\": \"Basic Materials\", \"Symbol\": \"PDH \", \"Shares\": \"35000000.00\", \"Price\": \"17.00\", \"Market_CapMM\": \"595.00\", \"Company Name\": \"PETROLOGISTICS LP \", \"Per_Change\": \"1.70\", \" website\": \"http://www.google.com/finance?q=pdh&ei=qWNgUZjvAoai0AGchwE\", \"industry2\": \"Chemical Manufacturing\", \"Market\": \"New York Stock Exchange \"}, {\"Market_Cap\": \"370000000.00\", \"Date Priced\": \"5/3/2012\", \"Offer Amount\": \"$370,000,000 \", \"industry\": \"Financial\", \"Symbol\": \"ROYT \", \"Shares\": \"18500000.00\", \"Price\": \"20.00\", \"Market_CapMM\": \"370.00\", \"Company Name\": \"PACIFIC COAST OIL TRUST \", \"Per_Change\": \"-0.75\", \" website\": \"http://www.google.com/finance?q=royt&ei=WWhgUaDaFuum0AHPVg\", \"industry2\": \" Misc\", \"Market\": \"New York Stock Exchange \"}, {\"Market_Cap\": \"671000000.00\", \"Date Priced\": \"5/3/2012\", \"Offer Amount\": \"$671,000,000 \", \"industry\": \"Financial\", \"Symbol\": \"CG \", \"Shares\": \"30500000.00\", \"Price\": \"22.00\", \"Market_CapMM\": \"671.00\", \"Company Name\": \"CARLYLE GROUP L.P. \", \"Per_Change\": \"0.00\", \" website\": \" \\\"http://www.google.com/finance?q=NASDAQ%3ACG&sq=cg&sp=3&ei=1GhgUbDhBK6r0AHWggE\\\"\", \"industry2\": \"Investment Services\", \"Market\": \"Nasdaq National Market \"}, {\"Market_Cap\": \"192200000.00\", \"Date Priced\": \"5/3/2012\", \"Offer Amount\": \"$192,200,000 \", \"industry\": \"Financial\", \"Symbol\": \"EVER \", \"Shares\": \"19220000.00\", \"Price\": \"10.00\", \"Market_CapMM\": \"192.20\", \"Company Name\": \"EVERBANK FINANCIAL CORP \", \"Per_Change\": \"1.79\", \" website\": \"http://www.google.com/finance?q=NYSE%3AEVER&sq=ever&sp=2&ei=F2lgUfiePKiI0QGIDA\", \"industry2\": \"SandLs\", \"Market\": \"New York Stock Exchange \"}, {\"Market_Cap\": \"50000000.00\", \"Date Priced\": \"5/1/2012\", \"Offer Amount\": \"$50,000,000 \", \"industry\": \"Healthcare\", \"Symbol\": \"SUPN \", \"Shares\": \"10000000.00\", \"Price\": \"5.00\", \"Market_CapMM\": \"50.00\", \"Company Name\": \"SUPERNUS PHARMACEUTICALS INC \", \"Per_Change\": \"6.89\", \" website\": \" \\\"http://www.google.com/finance?q=supn&ei=NmlgUcDPJLS30QHdFw\\\"\", \"industry2\": \" Biotech\", \"Market\": \"Nasdaq National Market \"}, {\"Market_Cap\": \"165000000.00\", \"Date Priced\": \"4/27/2012\", \"Offer Amount\": \"$165,000,000 \", \"industry\": \"Basic Materials\", \"Symbol\": \"EDG \", \"Shares\": \"15000000.00\", \"Price\": \"11.00\", \"Market_CapMM\": \"165.00\", \"Company Name\": \"EDGEN GROUP INC. \", \"Per_Change\": \"1.00\", \" website\": \"http://www.google.com/finance?q=edg&ei=WWlgUaCnJ66r0AHWggE\", \"industry2\": \"Misc\", \"Market\": \"New York Stock Exchange \"}, {\"Market_Cap\": \"142450000.00\", \"Date Priced\": \"4/26/2012\", \"Offer Amount\": \"$142,450,000 \", \"industry\": \"Financial\", \"Symbol\": \"ACRE \", \"Shares\": \"7700000.00\", \"Price\": \"18.50\", \"Market_CapMM\": \"142.45\", \"Company Name\": \"ARES COMMERCIAL REAL ESTATE CORP \", \"Per_Change\": \"0.90\", \" website\": \"http://www.google.com/finance?q=acre\", \"industry2\": \"Consumer\", \"Market\": \"New York Stock Exchange \"}, {\"Market_Cap\": \"69795000.00\", \"Date Priced\": \"4/25/2012\", \"Offer Amount\": \"$69,795,000 \", \"industry\": \"Tech\", \"Symbol\": \"ENVI \", \"Shares\": \"7755000.00\", \"Price\": \"9.00\", \"Market_CapMM\": \"69.80\", \"Company Name\": \"ENVIVIO INC \", \"Per_Change\": \"-1.77\", \" website\": \"http://www.google.com/finance?q=envi\", \"industry2\": \"Software\", \"Market\": \"Nasdaq National Market \"}, {\"Market_Cap\": \"12000000.00\", \"Date Priced\": \"4/25/2012\", \"Offer Amount\": \"$12,000,000 \", \"industry\": \"Tech\", \"Symbol\": \"CLIR \", \"Shares\": \"3000000.00\", \"Price\": \"4.00\", \"Market_CapMM\": \"12.00\", \"Company Name\": \"CLEARSIGN COMBUSTION CORP \", \"Per_Change\": \"0.00\", \" website\": \"http://www.google.com/finance?q=CLIR\", \"industry2\": \"Scientific\", \"Market\": \"Nasdaq SmallCap Market \"}, {\"Market_Cap\": \"120000000.00\", \"Date Priced\": \"4/20/2012\", \"Offer Amount\": \"$120,000,000 \", \"industry\": \"Tech\", \"Symbol\": \"BLOX \", \"Shares\": \"7500000.00\", \"Price\": \"16.00\", \"Market_CapMM\": \"120.00\", \"Company Name\": \"INFOBLOX INC \", \"Per_Change\": \"-3.76\", \" website\": \"http://www.google.com/finance?q=BLOX\", \"industry2\": \"Software\", \"Market\": \"New York Stock Exchange \"}, {\"Market_Cap\": \"312000000.00\", \"Date Priced\": \"4/20/2012\", \"Offer Amount\": \"$312,000,000 \", \"industry\": \"Energy\", \"Symbol\": \"MPO \", \"Shares\": \"24000000.00\", \"Price\": \"13.00\", \"Market_CapMM\": \"312.00\", \"Company Name\": \"MIDSTATES PETROLEUM COMPANY, INC. \", \"Per_Change\": \"4.00\", \" website\": \"http://www.google.com/finance?q=MPO\", \"industry2\": \"Oil\", \"Market\": \"New York Stock Exchange \"}, {\"Market_Cap\": \"82282473.00\", \"Date Priced\": \"4/20/2012\", \"Offer Amount\": \"$82,282,473 \", \"industry\": \"Tech\", \"Symbol\": \"PFPT \", \"Shares\": \"6329421.00\", \"Price\": \"13.00\", \"Market_CapMM\": \"82.28\", \"Company Name\": \"PROOFPOINT INC \", \"Per_Change\": \"-2.34\", \" website\": \"http://www.google.com/finance?q=BLOX\", \"industry2\": \"Software\", \"Market\": \"Nasdaq National Market \"}, {\"Market_Cap\": \"229500000.00\", \"Date Priced\": \"4/19/2012\", \"Offer Amount\": \"$229,500,000 \", \"industry\": \"Tech\", \"Symbol\": \"SPLK \", \"Shares\": \"13500000.00\", \"Price\": \"17.00\", \"Market_CapMM\": \"229.50\", \"Company Name\": \"SPLUNK INC \", \"Per_Change\": \"2.03\", \" website\": \"http://www.google.com/finance?q=SPLK\", \"industry2\": \"Software\", \"Market\": \"Nasdaq National Market \"}, {\"Market_Cap\": \"338037570.00\", \"Date Priced\": \"4/19/2012\", \"Offer Amount\": \"$338,037,570 \", \"industry\": \"Consumer\", \"Symbol\": \"TUMI \", \"Shares\": \"18779865.00\", \"Price\": \"18.00\", \"Market_CapMM\": \"338.04\", \"Company Name\": \"TUMI HOLDINGS, INC. \", \"Per_Change\": \"-1.13\", \" website\": \"http://www.google.com/finance?q=TUMI\", \"industry2\": \"Apparel\", \"Market\": \"New York Stock Exchange \"}, {\"Market_Cap\": \"546000000.00\", \"Date Priced\": \"4/18/2012\", \"Offer Amount\": \"$546,000,000 \", \"industry\": \"Financial\", \"Symbol\": \"SDR \", \"Shares\": \"26000000.00\", \"Price\": \"21.00\", \"Market_CapMM\": \"546.00\", \"Company Name\": \"SANDRIDGE ENERGY INC \", \"Per_Change\": \"2.35\", \" website\": \"http://www.google.com/finance?q=SDR\", \"industry2\": \"Investment\", \"Market\": \"New York Stock Exchange \"}, {\"Market_Cap\": \"13420000.00\", \"Date Priced\": \"4/17/2012\", \"Offer Amount\": \"$13,420,000 \", \"industry\": \"Services\", \"Symbol\": \"DCIN \", \"Shares\": \"2200000.00\", \"Price\": \"6.10\", \"Market_CapMM\": \"13.42\", \"Company Name\": \"DIGITAL CINEMA DESTINATIONS CORP. \", \"Per_Change\": \"3.87\", \" website\": \"http://www.google.com/finance?q=DCIN\", \"industry2\": \"Motion Pictures\", \"Market\": \"Nasdaq SmallCap Market \"}, {\"Market_Cap\": \"477272733.00\", \"Date Priced\": \"4/12/2012\", \"Offer Amount\": \"$477,272,733 \", \"industry\": \"Basic Materials\", \"Symbol\": \"MRC \", \"Shares\": \"22727273.00\", \"Price\": \"21.00\", \"Market_CapMM\": \"477.27\", \"Company Name\": \"MRC GLOBAL INC. \", \"Per_Change\": \"-1.14\", \" website\": \"http://www.google.com/finance?q=MRC\", \"industry2\": \"Misc\", \"Market\": \"New York Stock Exchange \"}, {\"Market_Cap\": \"378947320.00\", \"Date Priced\": \"4/12/2012\", \"Offer Amount\": \"$378,947,320 \", \"industry\": \"Energy\", \"Symbol\": \"FET \", \"Shares\": \"18947366.00\", \"Price\": \"20.00\", \"Market_CapMM\": \"378.95\", \"Company Name\": \"FORUM ENERGY TECHNOLOGIES, INC. \", \"Per_Change\": \"-1.15\", \" website\": \"http://www.google.com/finance?q=FET\", \"industry2\": \"Oil Well Services\", \"Market\": \"New York Stock Exchange \"}, {\"Market_Cap\": \"380249989.00\", \"Date Priced\": \"4/12/2012\", \"Offer Amount\": \"$380,249,989 \", \"industry\": \"Financial\", \"Symbol\": \"OAK \", \"Shares\": \"8843023.00\", \"Price\": \"43.00\", \"Market_CapMM\": \"380.25\", \"Company Name\": \"OAKTREE CAPITAL GROUP, LLC \", \"Per_Change\": \"-2.10\", \" website\": \"http://www.google.com/finance?q=OAK\", \"industry2\": \"Investment\", \"Market\": \"New York Stock Exchange \"}, {\"Market_Cap\": \"38400000.00\", \"Date Priced\": \"4/11/2012\", \"Offer Amount\": \"$38,400,000 \", \"industry\": \"Capital Goods\", \"Symbol\": \"EAC \", \"Shares\": \"4800000.00\", \"Price\": \"8.00\", \"Market_CapMM\": \"38.40\", \"Company Name\": \"ERICKSON AIR-CRANE INC \", \"Per_Change\": \"0.37\", \" website\": \"http://www.google.com/finance?q=EAC\", \"industry2\": \"Aerospace\", \"Market\": \"Nasdaq National Market \"}, {\"Market_Cap\": \"254400000.00\", \"Date Priced\": \"4/5/2012\", \"Offer Amount\": \"$254,400,000 \", \"industry\": \"Services\", \"Symbol\": \"RPAI \", \"Shares\": \"31800000.00\", \"Price\": \"8.00\", \"Market_CapMM\": \"254.40\", \"Company Name\": \"RETAIL PROPERTIES OF AMERICA, INC. \", \"Per_Change\": \"-3.22\", \" website\": \"http://www.google.com/finance?q=RPAI\", \"industry2\": \"Real Estate\", \"Market\": \"New York Stock Exchange \"}], \"pandassource\": {\"type\": \"PandasDataSource\", \"id\": \"ac0ae5fa-c673-4589-919a-d408d7a789ac\"}, \"columns\": [\"Company Name\", \"Symbol\", \"Market\", \"Price\", \"Shares\", \"Offer Amount\", \"Date Priced\", \"industry\", \"industry2\", \" website\", \"Market_Cap\", \"Market_CapMM\", \"Per_Change\"]}, \"type\": \"PandasPivot\", \"id\": \"5db7351e-d235-41a5-8668-0f17cc154cef\"}, {\"attributes\": {\"doc\": \"54e9d054-42f6-4a44-bbd9-93b829da303f\", \"id\": \"ac0ae5fa-c673-4589-919a-d408d7a789ac\", \"created\": true}, \"type\": \"PandasDataSource\", \"id\": \"ac0ae5fa-c673-4589-919a-d408d7a789ac\"}];\n",
        "var modelid = \"5db7351e-d235-41a5-8668-0f17cc154cef\";\n",
        "var modeltype = \"PandasPivot\";\n",
        "var elementid = \"4b9a2f4a-512f-4955-b4ec-1f827d38fb23\";\n",
        "var view;\n",
        "base = require(\"./base\")\n",
        "console.log(modelid, modeltype, elementid);\n",
        "base.load_models(all_models);\n",
        "var model = base.Collections(modeltype).get(modelid)\n",
        "window.model=model;\n",
        "var view = new model.default_view(\n",
        "    {model : model}\n",
        ");\n",
        "window.view = view;\n",
        "view.render()\n",
        "_.delay(function(){\n",
        "    $('#4b9a2f4a-512f-4955-b4ec-1f827d38fb23').append(view.$el)\n",
        "}, 1000);\n",
        "    \n",
        "    });\n",
        "  </script>\n",
        "  \n",
        "  <div id=\"4b9a2f4a-512f-4955-b4ec-1f827d38fb23\">Plots</div>\n",
        "\n",
        "  \n",
        "</div>"
       ],
       "output_type": "pyout",
       "prompt_number": 19,
       "text": [
        "<bokeh.mpl.PandasTable at 0x106c4e650>"
       ]
      }
     ],
     "prompt_number": 19
    },
    {
     "cell_type": "code",
     "collapsed": false,
     "input": [],
     "language": "python",
     "metadata": {},
     "outputs": []
    }
   ],
   "metadata": {}
  }
 ]
}