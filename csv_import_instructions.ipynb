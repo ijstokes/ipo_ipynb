{
 "metadata": {
  "name": "csv_import_instructions"
 },
 "nbformat": 3,
 "nbformat_minor": 0,
 "worksheets": [
  {
   "cells": [
    {
     "cell_type": "raw",
     "metadata": {},
     "source": [
      "This notebook show how to make the initial input csv.\n",
      "\n",
      "Start by copying the table from a url like this\n",
      "http://www.nasdaq.com/markets/ipos/activity.aspx?tab=pricings&month=2012-04"
     ]
    },
    {
     "cell_type": "code",
     "collapsed": false,
     "input": [
      "import pandas"
     ],
     "language": "python",
     "metadata": {},
     "outputs": []
    },
    {
     "cell_type": "code",
     "collapsed": false,
     "input": [
      "bc = pandas.read_clipboard(header=0)\n",
      "bc.columns = ['Company Name', 'Symbol', 'Market', 'Price', 'Shares', 'Offer Amount', 'Date Priced']\n",
      "bc"
     ],
     "language": "python",
     "metadata": {},
     "outputs": []
    },
    {
     "cell_type": "code",
     "collapsed": false,
     "input": [
      "bc.to_csv('code/ipo_ipynb/ipo90.csv')"
     ],
     "language": "python",
     "metadata": {},
     "outputs": []
    },
    {
     "cell_type": "code",
     "collapsed": false,
     "input": [],
     "language": "python",
     "metadata": {},
     "outputs": []
    },
    {
     "cell_type": "code",
     "collapsed": false,
     "input": [],
     "language": "python",
     "metadata": {},
     "outputs": []
    }
   ],
   "metadata": {}
  }
 ]
}